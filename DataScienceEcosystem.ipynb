{
 "cells": [
  {
   "cell_type": "markdown",
   "id": "be5bae6e-298d-40f9-af2f-7d8222060266",
   "metadata": {},
   "source": [
    "# Data Science Tools and EcoSystem #"
   ]
  },
  {
   "cell_type": "markdown",
   "id": "34005534-a7ae-4493-9e9d-4d35962165f0",
   "metadata": {},
   "source": [
    "In this notebook, Data Science and Ecosystem are summarized.\n",
    "**Objective:**\n",
    "* Popular languages\n",
    "* Common libraries\n",
    "* Examples of some simple arithetic expressions\n",
    "\n",
    "## Author ##\n",
    "Amanda"
   ]
  },
  {
   "cell_type": "markdown",
   "id": "4745ee39-e52a-4cab-98ae-6d173181ad75",
   "metadata": {},
   "source": [
    "Some of the popular languages that Data Sciencetist use are: \n",
    "* Python\n",
    "* C++\n",
    "* R"
   ]
  },
  {
   "cell_type": "markdown",
   "id": "bc095a65-4293-4890-9b52-2ac83e2dd74d",
   "metadata": {},
   "source": [
    "Some of the commonly used libraries used by Data Scientists include: \n",
    "\n",
    "* Pandas\n",
    "* NumPy\n",
    "* TensorFlow\n",
    "* NLTK"
   ]
  },
  {
   "cell_type": "markdown",
   "id": "66a44c01-97c9-4eb5-be49-ed7550aa8a78",
   "metadata": {},
   "source": [
    "### Below are a few examples of evaluating arithmetic expressions in Python ###"
   ]
  },
  {
   "cell_type": "code",
   "execution_count": 6,
   "id": "4a3f17a7-d76c-4a57-992c-06e609345ae7",
   "metadata": {},
   "outputs": [
    {
     "data": {
      "text/plain": [
       "17"
      ]
     },
     "execution_count": 6,
     "metadata": {},
     "output_type": "execute_result"
    }
   ],
   "source": [
    "#This is a simple arithmetic expression to multiply the integers\n",
    "(3*4)+5"
   ]
  },
  {
   "cell_type": "code",
   "execution_count": 7,
   "id": "1955ea9b-ba9f-46dc-bc02-6127fad1e8f2",
   "metadata": {},
   "outputs": [
    {
     "data": {
      "text/plain": [
       "3.3333333333333335"
      ]
     },
     "execution_count": 7,
     "metadata": {},
     "output_type": "execute_result"
    }
   ],
   "source": [
    "# This will convert 2-- minutes to hours by diving by 60\n",
    "200/60"
   ]
  },
  {
   "cell_type": "markdown",
   "id": "521a7c2a-6282-49c9-a46d-caf1b29d545e",
   "metadata": {},
   "source": []
  }
 ],
 "metadata": {
  "kernelspec": {
   "display_name": "Python 3 (ipykernel)",
   "language": "python",
   "name": "python3"
  },
  "language_info": {
   "codemirror_mode": {
    "name": "ipython",
    "version": 3
   },
   "file_extension": ".py",
   "mimetype": "text/x-python",
   "name": "python",
   "nbconvert_exporter": "python",
   "pygments_lexer": "ipython3",
   "version": "3.12.8"
  }
 },
 "nbformat": 4,
 "nbformat_minor": 5
}
